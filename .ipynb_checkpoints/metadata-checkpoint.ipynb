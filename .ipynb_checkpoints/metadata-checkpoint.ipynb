{
 "cells": [
  {
   "cell_type": "code",
   "execution_count": 1,
   "metadata": {},
   "outputs": [],
   "source": [
    "import pandas as pd\n",
    "import os\n",
    "import numpy as np\n",
    "import cv2"
   ]
  },
  {
   "cell_type": "code",
   "execution_count": 2,
   "metadata": {},
   "outputs": [],
   "source": [
    "# File name for the metadata to use in app.py\n",
    "\n",
    "# IMPORTANT, change between train_data and test_data\n",
    "DATASET = 'test_data/'\n",
    "\n",
    "\n",
    "METADATA_FILE = DATASET + 'labels.csv'\n",
    "# ordering of columns in BOTH this file and app.py\n",
    "YOLO_ORDER = ['label', 'x', 'y', 'w', 'h', 'image']\n",
    "APP_ORDER = ['label', 'xmin', 'ymin', 'xmax', 'ymax', 'image']"
   ]
  },
  {
   "cell_type": "code",
   "execution_count": 3,
   "metadata": {},
   "outputs": [],
   "source": [
    "# list of image names\n",
    "image_files = sorted([x for x in os.listdir(DATASET + 'obj/') if x[-4:] == '.jpg'])\n",
    "label_files = sorted([x for x in os.listdir(DATASET + 'obj/') if x[-4:] == '.txt'])\n",
    "\n",
    "for i in zip(image_files, label_files):\n",
    "    print(i)"
   ]
  },
  {
   "cell_type": "code",
   "execution_count": 4,
   "metadata": {},
   "outputs": [],
   "source": [
    "# Rename files to match all image/label name formats\n",
    "for i in range(len(image_files)):\n",
    "    old_image_file = DATASET + 'obj/' + image_files[i][:-4] + '.jpg'\n",
    "    new_image_file = DATASET + 'obj/' + 'frame-' + str(i+1).zfill(3) + '.jpg'\n",
    "    try:\n",
    "        os.rename(old_image_file, new_image_file)\n",
    "    except:\n",
    "        continue\n",
    "        \n",
    "for i in range(len(label_files)):\n",
    "    old_text_file = DATASET + 'obj/' + label_files[i][:-4] + '.txt'\n",
    "    new_text_file = DATASET + 'obj/' + 'frame-' + str(i+1).zfill(3) + '.txt'\n",
    "    try:\n",
    "        os.rename(old_text_file, new_text_file)\n",
    "    except:\n",
    "        continue\n",
    "        \n",
    "# update local variable to keep up with file names\n",
    "image_files = sorted([x for x in os.listdir(DATASET + 'obj/') if x[-4:] == '.jpg'])\n",
    "label_files = sorted([x for x in os.listdir(DATASET + 'obj/') if x[-4:] == '.txt'])\n",
    "for i in zip(image_files, label_files):\n",
    "    print(i)"
   ]
  },
  {
   "cell_type": "code",
   "execution_count": 5,
   "metadata": {},
   "outputs": [
    {
     "name": "stdout",
     "output_type": "stream",
     "text": [
      "metadata created\n"
     ]
    }
   ],
   "source": [
    "# Add one row for each label\n",
    "# For each image\n",
    "temp = []\n",
    "for file in label_files:\n",
    "    try:\n",
    "        image_file =  file[:-4] + '.jpg'\n",
    "        with open(DATASET + 'obj/' + file, encoding='utf-8') as f:\n",
    "            for line in f.readlines():\n",
    "                temp.append([item for item in line.strip('\\n').split(' ')] + [image_file])\n",
    "    except:\n",
    "        continue\n",
    "metadata = pd.DataFrame(temp, columns=YOLO_ORDER)\n",
    "print('metadata created')"
   ]
  },
  {
   "cell_type": "code",
   "execution_count": 6,
   "metadata": {},
   "outputs": [
    {
     "data": {
      "text/html": [
       "<div>\n",
       "<style scoped>\n",
       "    .dataframe tbody tr th:only-of-type {\n",
       "        vertical-align: middle;\n",
       "    }\n",
       "\n",
       "    .dataframe tbody tr th {\n",
       "        vertical-align: top;\n",
       "    }\n",
       "\n",
       "    .dataframe thead th {\n",
       "        text-align: right;\n",
       "    }\n",
       "</style>\n",
       "<table border=\"1\" class=\"dataframe\">\n",
       "  <thead>\n",
       "    <tr style=\"text-align: right;\">\n",
       "      <th></th>\n",
       "      <th>label</th>\n",
       "      <th>x</th>\n",
       "      <th>y</th>\n",
       "      <th>w</th>\n",
       "      <th>h</th>\n",
       "      <th>image</th>\n",
       "    </tr>\n",
       "  </thead>\n",
       "  <tbody>\n",
       "  </tbody>\n",
       "</table>\n",
       "</div>"
      ],
      "text/plain": [
       "Empty DataFrame\n",
       "Columns: [label, x, y, w, h, image]\n",
       "Index: []"
      ]
     },
     "execution_count": 6,
     "metadata": {},
     "output_type": "execute_result"
    }
   ],
   "source": [
    "metadata"
   ]
  },
  {
   "cell_type": "code",
   "execution_count": 7,
   "metadata": {},
   "outputs": [],
   "source": [
    "# Convert integer category label to object name string\n",
    "metadata.loc[metadata['label'] == '0', 'label'] = 'Hard Hat'\n",
    "metadata.loc[metadata['label'] == '1', 'label'] = 'Safety Vest'"
   ]
  },
  {
   "cell_type": "code",
   "execution_count": 8,
   "metadata": {},
   "outputs": [],
   "source": [
    "# Convert string coordinates to float coordinates\n",
    "metadata['x'] = metadata['x'].astype(float)\n",
    "metadata['y'] = metadata['y'].astype(float)\n",
    "metadata['w'] = metadata['w'].astype(float)\n",
    "metadata['h'] = metadata['h'].astype(float)"
   ]
  },
  {
   "cell_type": "code",
   "execution_count": 9,
   "metadata": {},
   "outputs": [],
   "source": [
    "for image_file in image_files:\n",
    "    image = cv2.imread(DATASET + 'obj/' + image_file)\n",
    "    h, w = image.shape[:2]\n",
    "    metadata.loc[metadata['image'] == image_file, ['x', 'w']] *= w\n",
    "    metadata.loc[metadata['image'] == image_file, ['y', 'h']] *= h"
   ]
  },
  {
   "cell_type": "code",
   "execution_count": 10,
   "metadata": {
    "scrolled": false
   },
   "outputs": [
    {
     "data": {
      "text/html": [
       "<div>\n",
       "<style scoped>\n",
       "    .dataframe tbody tr th:only-of-type {\n",
       "        vertical-align: middle;\n",
       "    }\n",
       "\n",
       "    .dataframe tbody tr th {\n",
       "        vertical-align: top;\n",
       "    }\n",
       "\n",
       "    .dataframe thead th {\n",
       "        text-align: right;\n",
       "    }\n",
       "</style>\n",
       "<table border=\"1\" class=\"dataframe\">\n",
       "  <thead>\n",
       "    <tr style=\"text-align: right;\">\n",
       "      <th></th>\n",
       "      <th>label</th>\n",
       "      <th>x</th>\n",
       "      <th>y</th>\n",
       "      <th>w</th>\n",
       "      <th>h</th>\n",
       "      <th>image</th>\n",
       "    </tr>\n",
       "  </thead>\n",
       "  <tbody>\n",
       "  </tbody>\n",
       "</table>\n",
       "</div>"
      ],
      "text/plain": [
       "Empty DataFrame\n",
       "Columns: [label, x, y, w, h, image]\n",
       "Index: []"
      ]
     },
     "execution_count": 10,
     "metadata": {},
     "output_type": "execute_result"
    }
   ],
   "source": [
    "metadata"
   ]
  },
  {
   "cell_type": "code",
   "execution_count": 11,
   "metadata": {},
   "outputs": [],
   "source": [
    "metadata['xmin'] = metadata['x'] - metadata['w']/2\n",
    "metadata['ymin'] = metadata['y'] - metadata['h']/2\n",
    "metadata['xmax'] = metadata['x'] + metadata['w']/2\n",
    "metadata['ymax'] = metadata['y'] + metadata['h']/2"
   ]
  },
  {
   "cell_type": "code",
   "execution_count": 12,
   "metadata": {},
   "outputs": [],
   "source": [
    "# Convert float coordinates to int coordinates\n",
    "metadata['xmin'] = metadata['xmin'].astype(int)\n",
    "metadata['ymin'] = metadata['ymin'].astype(int)\n",
    "metadata['xmax'] = metadata['xmax'].astype(int)\n",
    "metadata['ymax'] = metadata['ymax'].astype(int)"
   ]
  },
  {
   "cell_type": "code",
   "execution_count": 13,
   "metadata": {},
   "outputs": [],
   "source": [
    "# Drop unused columns\n",
    "metadata = metadata[APP_ORDER]"
   ]
  },
  {
   "cell_type": "code",
   "execution_count": 14,
   "metadata": {},
   "outputs": [
    {
     "data": {
      "text/html": [
       "<div>\n",
       "<style scoped>\n",
       "    .dataframe tbody tr th:only-of-type {\n",
       "        vertical-align: middle;\n",
       "    }\n",
       "\n",
       "    .dataframe tbody tr th {\n",
       "        vertical-align: top;\n",
       "    }\n",
       "\n",
       "    .dataframe thead th {\n",
       "        text-align: right;\n",
       "    }\n",
       "</style>\n",
       "<table border=\"1\" class=\"dataframe\">\n",
       "  <thead>\n",
       "    <tr style=\"text-align: right;\">\n",
       "      <th></th>\n",
       "      <th>label</th>\n",
       "      <th>xmin</th>\n",
       "      <th>ymin</th>\n",
       "      <th>xmax</th>\n",
       "      <th>ymax</th>\n",
       "      <th>image</th>\n",
       "    </tr>\n",
       "  </thead>\n",
       "  <tbody>\n",
       "  </tbody>\n",
       "</table>\n",
       "</div>"
      ],
      "text/plain": [
       "Empty DataFrame\n",
       "Columns: [label, xmin, ymin, xmax, ymax, image]\n",
       "Index: []"
      ]
     },
     "execution_count": 14,
     "metadata": {},
     "output_type": "execute_result"
    }
   ],
   "source": [
    "# Check that coordinates fit within image size\n",
    "metadata[metadata['image'] == 'frame-123.jpg']"
   ]
  },
  {
   "cell_type": "code",
   "execution_count": 15,
   "metadata": {},
   "outputs": [
    {
     "ename": "AssertionError",
     "evalue": "",
     "output_type": "error",
     "traceback": [
      "\u001b[0;31m---------------------------------------------------------------------------\u001b[0m",
      "\u001b[0;31mAssertionError\u001b[0m                            Traceback (most recent call last)",
      "\u001b[0;32m<ipython-input-15-bdcbd8460c3a>\u001b[0m in \u001b[0;36m<module>\u001b[0;34m\u001b[0m\n\u001b[1;32m      1\u001b[0m \u001b[0;31m# Stop \"Run All\" execution before saving file\u001b[0m\u001b[0;34m\u001b[0m\u001b[0;34m\u001b[0m\u001b[0;34m\u001b[0m\u001b[0m\n\u001b[0;32m----> 2\u001b[0;31m \u001b[0;32massert\u001b[0m \u001b[0;32mFalse\u001b[0m\u001b[0;34m\u001b[0m\u001b[0;34m\u001b[0m\u001b[0m\n\u001b[0m",
      "\u001b[0;31mAssertionError\u001b[0m: "
     ]
    }
   ],
   "source": [
    "# Stop \"Run All\" execution before saving file\n",
    "assert False"
   ]
  },
  {
   "cell_type": "code",
   "execution_count": 16,
   "metadata": {},
   "outputs": [],
   "source": [
    "# Save file\n",
    "metadata.to_csv(METADATA_FILE, index=False)"
   ]
  },
  {
   "cell_type": "code",
   "execution_count": null,
   "metadata": {},
   "outputs": [],
   "source": []
  }
 ],
 "metadata": {
  "kernelspec": {
   "display_name": "Python 3",
   "language": "python",
   "name": "python3"
  },
  "language_info": {
   "codemirror_mode": {
    "name": "ipython",
    "version": 3
   },
   "file_extension": ".py",
   "mimetype": "text/x-python",
   "name": "python",
   "nbconvert_exporter": "python",
   "pygments_lexer": "ipython3",
   "version": "3.7.4"
  }
 },
 "nbformat": 4,
 "nbformat_minor": 4
}
