{
 "cells": [
  {
   "cell_type": "code",
   "execution_count": 3,
   "metadata": {},
   "outputs": [],
   "source": [
    "import pandas as pd\n",
    "import os"
   ]
  },
  {
   "cell_type": "code",
   "execution_count": null,
   "metadata": {},
   "outputs": [],
   "source": []
  },
  {
   "cell_type": "code",
   "execution_count": 112,
   "metadata": {},
   "outputs": [],
   "source": [
    "# list of image names\n",
    "image_files = os.listdir('ppe_data/images')"
   ]
  },
  {
   "cell_type": "code",
   "execution_count": 113,
   "metadata": {},
   "outputs": [],
   "source": [
    "label_files = os.listdir('ppe_data/labels')"
   ]
  },
  {
   "cell_type": "code",
   "execution_count": 114,
   "metadata": {},
   "outputs": [],
   "source": [
    "labels_list = []\n",
    "for file in label_files:\n",
    "    with open('ppe_data/labels/' + file, 'r') as f:\n",
    "        labels_list.append(f.readline().strip('\\n').split(' '))"
   ]
  },
  {
   "cell_type": "code",
   "execution_count": 115,
   "metadata": {},
   "outputs": [],
   "source": [
    "metadata = pd.DataFrame(labels_list, columns=['label', 'xmin', 'ymin', 'xmax', 'ymin'])"
   ]
  },
  {
   "cell_type": "code",
   "execution_count": 116,
   "metadata": {},
   "outputs": [],
   "source": [
    "metadata['image'] = image_files"
   ]
  },
  {
   "cell_type": "code",
   "execution_count": 117,
   "metadata": {},
   "outputs": [
    {
     "data": {
      "text/plain": [
       "Index(['label', 'xmin', 'ymin', 'xmax', 'ymin', 'image'], dtype='object')"
      ]
     },
     "execution_count": 117,
     "metadata": {},
     "output_type": "execute_result"
    }
   ],
   "source": [
    "metadata.columns"
   ]
  },
  {
   "cell_type": "code",
   "execution_count": 118,
   "metadata": {},
   "outputs": [
    {
     "data": {
      "text/html": [
       "<div>\n",
       "<style scoped>\n",
       "    .dataframe tbody tr th:only-of-type {\n",
       "        vertical-align: middle;\n",
       "    }\n",
       "\n",
       "    .dataframe tbody tr th {\n",
       "        vertical-align: top;\n",
       "    }\n",
       "\n",
       "    .dataframe thead th {\n",
       "        text-align: right;\n",
       "    }\n",
       "</style>\n",
       "<table border=\"1\" class=\"dataframe\">\n",
       "  <thead>\n",
       "    <tr style=\"text-align: right;\">\n",
       "      <th></th>\n",
       "      <th>label</th>\n",
       "      <th>xmin</th>\n",
       "      <th>ymin</th>\n",
       "      <th>xmax</th>\n",
       "      <th>ymin</th>\n",
       "      <th>image</th>\n",
       "    </tr>\n",
       "  </thead>\n",
       "  <tbody>\n",
       "    <tr>\n",
       "      <th>0</th>\n",
       "      <td>2</td>\n",
       "      <td>0.82</td>\n",
       "      <td>0.5149700598802395</td>\n",
       "      <td>0.328</td>\n",
       "      <td>0.9580838323353293</td>\n",
       "      <td>pos_530.jpg</td>\n",
       "    </tr>\n",
       "    <tr>\n",
       "      <th>1</th>\n",
       "      <td>1</td>\n",
       "      <td>0.8251953125</td>\n",
       "      <td>0.50048828125</td>\n",
       "      <td>0.328125</td>\n",
       "      <td>0.7861328125</td>\n",
       "      <td>pos_524.jpg</td>\n",
       "    </tr>\n",
       "    <tr>\n",
       "      <th>2</th>\n",
       "      <td>0</td>\n",
       "      <td>0.483203125</td>\n",
       "      <td>0.21805555555555556</td>\n",
       "      <td>0.06171875</td>\n",
       "      <td>0.10555555555555556</td>\n",
       "      <td>pos_242.jpg</td>\n",
       "    </tr>\n",
       "    <tr>\n",
       "      <th>3</th>\n",
       "      <td>0</td>\n",
       "      <td>0.5166666666666667</td>\n",
       "      <td>0.39566666666666667</td>\n",
       "      <td>0.7893333333333333</td>\n",
       "      <td>0.5473333333333333</td>\n",
       "      <td>neg_533.jpg</td>\n",
       "    </tr>\n",
       "    <tr>\n",
       "      <th>4</th>\n",
       "      <td>0</td>\n",
       "      <td>0.216</td>\n",
       "      <td>0.149</td>\n",
       "      <td>0.2613333333333333</td>\n",
       "      <td>0.126</td>\n",
       "      <td>pos_1260.jpg</td>\n",
       "    </tr>\n",
       "    <tr>\n",
       "      <th>...</th>\n",
       "      <td>...</td>\n",
       "      <td>...</td>\n",
       "      <td>...</td>\n",
       "      <td>...</td>\n",
       "      <td>...</td>\n",
       "      <td>...</td>\n",
       "    </tr>\n",
       "    <tr>\n",
       "      <th>366</th>\n",
       "      <td>2</td>\n",
       "      <td>0.813</td>\n",
       "      <td>0.5</td>\n",
       "      <td>0.374</td>\n",
       "      <td>1.0</td>\n",
       "      <td>pos_1682.jpg</td>\n",
       "    </tr>\n",
       "    <tr>\n",
       "      <th>367</th>\n",
       "      <td>2</td>\n",
       "      <td>0.908</td>\n",
       "      <td>0.6321321321321322</td>\n",
       "      <td>0.184</td>\n",
       "      <td>0.7357357357357357</td>\n",
       "      <td>pos_1912.jpg</td>\n",
       "    </tr>\n",
       "    <tr>\n",
       "      <th>368</th>\n",
       "      <td>0</td>\n",
       "      <td>0.4140625</td>\n",
       "      <td>0.12013888888888889</td>\n",
       "      <td>0.103125</td>\n",
       "      <td>0.12361111111111112</td>\n",
       "      <td>pos_1906.jpg</td>\n",
       "    </tr>\n",
       "    <tr>\n",
       "      <th>369</th>\n",
       "      <td>1</td>\n",
       "      <td>0.4864583333333333</td>\n",
       "      <td>0.44166666666666665</td>\n",
       "      <td>0.48541666666666666</td>\n",
       "      <td>0.6541666666666667</td>\n",
       "      <td>pos_2002.jpg</td>\n",
       "    </tr>\n",
       "    <tr>\n",
       "      <th>370</th>\n",
       "      <td>2</td>\n",
       "      <td>0.7977941176470589</td>\n",
       "      <td>0.639</td>\n",
       "      <td>0.40441176470588236</td>\n",
       "      <td>0.722</td>\n",
       "      <td>pos_1292.jpg</td>\n",
       "    </tr>\n",
       "  </tbody>\n",
       "</table>\n",
       "<p>371 rows × 6 columns</p>\n",
       "</div>"
      ],
      "text/plain": [
       "    label                xmin                 ymin                 xmax  \\\n",
       "0       2                0.82   0.5149700598802395                0.328   \n",
       "1       1        0.8251953125        0.50048828125             0.328125   \n",
       "2       0         0.483203125  0.21805555555555556           0.06171875   \n",
       "3       0  0.5166666666666667  0.39566666666666667   0.7893333333333333   \n",
       "4       0               0.216                0.149   0.2613333333333333   \n",
       "..    ...                 ...                  ...                  ...   \n",
       "366     2               0.813                  0.5                0.374   \n",
       "367     2               0.908   0.6321321321321322                0.184   \n",
       "368     0           0.4140625  0.12013888888888889             0.103125   \n",
       "369     1  0.4864583333333333  0.44166666666666665  0.48541666666666666   \n",
       "370     2  0.7977941176470589                0.639  0.40441176470588236   \n",
       "\n",
       "                    ymin         image  \n",
       "0     0.9580838323353293   pos_530.jpg  \n",
       "1           0.7861328125   pos_524.jpg  \n",
       "2    0.10555555555555556   pos_242.jpg  \n",
       "3     0.5473333333333333   neg_533.jpg  \n",
       "4                  0.126  pos_1260.jpg  \n",
       "..                   ...           ...  \n",
       "366                  1.0  pos_1682.jpg  \n",
       "367   0.7357357357357357  pos_1912.jpg  \n",
       "368  0.12361111111111112  pos_1906.jpg  \n",
       "369   0.6541666666666667  pos_2002.jpg  \n",
       "370                0.722  pos_1292.jpg  \n",
       "\n",
       "[371 rows x 6 columns]"
      ]
     },
     "execution_count": 118,
     "metadata": {},
     "output_type": "execute_result"
    }
   ],
   "source": [
    "metadata"
   ]
  },
  {
   "cell_type": "code",
   "execution_count": null,
   "metadata": {},
   "outputs": [],
   "source": []
  },
  {
   "cell_type": "code",
   "execution_count": 119,
   "metadata": {},
   "outputs": [],
   "source": [
    "metadata.to_csv('~/Desktop/GitHub Projects/Streamlit-App/PPE-Object-Detection/labels.csv', index=False)"
   ]
  },
  {
   "cell_type": "code",
   "execution_count": null,
   "metadata": {},
   "outputs": [],
   "source": []
  },
  {
   "cell_type": "code",
   "execution_count": null,
   "metadata": {},
   "outputs": [],
   "source": []
  },
  {
   "cell_type": "code",
   "execution_count": null,
   "metadata": {},
   "outputs": [],
   "source": []
  }
 ],
 "metadata": {
  "kernelspec": {
   "display_name": "Python 3",
   "language": "python",
   "name": "python3"
  },
  "language_info": {
   "codemirror_mode": {
    "name": "ipython",
    "version": 3
   },
   "file_extension": ".py",
   "mimetype": "text/x-python",
   "name": "python",
   "nbconvert_exporter": "python",
   "pygments_lexer": "ipython3",
   "version": "3.7.4"
  }
 },
 "nbformat": 4,
 "nbformat_minor": 4
}
